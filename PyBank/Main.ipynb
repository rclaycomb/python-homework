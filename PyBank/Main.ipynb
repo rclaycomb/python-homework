{
 "cells": [
  {
   "cell_type": "code",
   "execution_count": 23,
   "metadata": {},
   "outputs": [
    {
     "name": "stdout",
     "output_type": "stream",
     "text": [
      "Financial Analysis\n",
      "----------------------------------\n",
      "Total Months: 86\n",
      "Total: $38382578\n",
      "Average Change: -2315.12\n",
      "Greatest Increase in Profits: Feb-2012 ($1926159)\n",
      "Greatest Decrease in Profits: Sep-2013 ($-2196167)\n"
     ]
    }
   ],
   "source": [
    "# Open libaries\n",
    "from pathlib import Path\n",
    "import csv\n",
    "\n",
    "# File location\n",
    "csvpath = Path(\"budget_data.csv\")\n",
    "\n",
    "# Create list for each variable\n",
    "months = []\n",
    "profit = []\n",
    "monthly_change = []\n",
    "\n",
    "# Open csv in read mode\n",
    "with open (csvpath, 'r') as csvfile:\n",
    "    csvreader = csv.reader(csvfile, delimiter=',')\n",
    "    \n",
    "    # Skip header \n",
    "    header = next(csvreader)\n",
    "    \n",
    "   # Add the total months and total profit to their list \n",
    "    for row in csvreader:\n",
    "        months.append(row[0])\n",
    "        profit.append(int(row[1]))\n",
    "        \n",
    "    for x in range(len(profit)-1):\n",
    "        monthly_change.append(profit[x+1]-profit[x])\n",
    "\n",
    "# Max increase of profit\n",
    "max_increase_profit = max(monthly_change)\n",
    "# Max decrease of profit\n",
    "max_decrease_profit = min(monthly_change)\n",
    "\n",
    "# Get the average of monthly change\n",
    "average = sum(monthly_change)/float(len(monthly_change))\n",
    "average = round(average, 2)\n",
    "\n",
    "# Set max and min to correct month using the index function\n",
    "max_increase_month = monthly_change.index(max(monthly_change)) + 1\n",
    "max_decrease_month = monthly_change.index(min(monthly_change)) + 1\n",
    "\n",
    "# Print outcome\n",
    "print(\"Financial Analysis\")\n",
    "print(\"----------------------------------\")\n",
    "print(f\"Total Months: {len(months)}\")\n",
    "print(f\"Total: ${sum(profit)}\")\n",
    "print(f\"Average Change: {average}\")\n",
    "print(f\"Greatest Increase in Profits: {months[max_increase_month]} (${(str(max_increase_profit))})\")\n",
    "print(f\"Greatest Decrease in Profits: {months[max_decrease_month]} (${(str(max_decrease_profit))})\")\n",
    "\n",
    "# Output file\n",
    "Financial_Analysis_Outcome = Path(\"Financial_Analysis_Outcome.txt\")\n",
    "\n",
    "# Writing data to Financial Analysis Outcome file\n",
    "with open(Financial_Analysis_Outcome,\"w\") as file:\n",
    "    file.write(\"Financial Analysis \\n\")\n",
    "    file.write(\"-------------------------------- \\n\")\n",
    "    file.write(f\"Total Months: {len(months)} \\n\")\n",
    "    file.write(f\"Total: ${sum(profit)} \\n\")\n",
    "    file.write(f\"Average Change: {average} \\n\")\n",
    "    file.write(f\"Greatest Increase in Profits: {months[max_increase_month]} (${(str(max_increase_profit))}) \\n\")\n",
    "    file.write(f\"Greatest Decrease in Profits: {months[max_decrease_month]} (${(str(max_decrease_profit))})\")\n",
    "\n"
   ]
  },
  {
   "cell_type": "code",
   "execution_count": null,
   "metadata": {},
   "outputs": [],
   "source": []
  }
 ],
 "metadata": {
  "kernelspec": {
   "display_name": "Python 3",
   "language": "python",
   "name": "python3"
  },
  "language_info": {
   "codemirror_mode": {
    "name": "ipython",
    "version": 3
   },
   "file_extension": ".py",
   "mimetype": "text/x-python",
   "name": "python",
   "nbconvert_exporter": "python",
   "pygments_lexer": "ipython3",
   "version": "3.7.4"
  }
 },
 "nbformat": 4,
 "nbformat_minor": 4
}
